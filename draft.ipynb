{
 "cells": [
  {
   "cell_type": "markdown",
   "metadata": {},
   "source": [
    "# Team 82 Data Cleanup"
   ]
  },
  {
   "cell_type": "code",
   "execution_count": 329,
   "metadata": {
    "scrolled": true
   },
   "outputs": [],
   "source": [
    "import os\n",
    "import pandas as pd\n",
    "import numpy as np"
   ]
  },
  {
   "cell_type": "markdown",
   "metadata": {},
   "source": [
    "## Census Data"
   ]
  },
  {
   "cell_type": "markdown",
   "metadata": {},
   "source": [
    "### Current Spending of Public Elementary-Secondary School Systems by State_2012-2018\n",
    "Survey Component: Annual Survey of School System Finance\n",
    "<br />\n",
    "Type of Government (GOVTYPE_LABEL): State and Local\n",
    "\n",
    "#### Cleanup Methodology\n",
    "* Removed the following columns:\n",
    "    * The `Survey Component (SVY_COMP_LABEL)` column because it contains the same value, `Annual Survey of School System Finance` for all rows.\n",
    "    * The `Aggregate Description (AGG_DESC)` column because it's values are not human readable and represent the same data as in the `Meaning of Aggregate Description (AGG_DESC_LABEL)` column\n",
    "    * The `Type of Government (GOVTYPE_LABEL)` column because it contains the same value `State and Local` for all rows.\n",
    "* Renamed the following columns:\n",
    "    * `Year (YEAR)`: removed the parenthesis  \n",
    "    * `Geographic Area Name (NAME)`: removed the parenthesis and rename to \"State\"\n",
    "    * `Amount Formatted (AMOUNT_FORMATTED)`: removed the parenthesis and rename to \"Spending\"\n",
    "    * `Meaning of Aggregate Description (AGG_DESC_LABEL)`: rename to \"Description\"\n",
    "\n",
    "* Simplified the values of the `Description` column by renaming the value `Elementary-secondary education school system total current expenditures` to \"total\" and removing the text \"Elementary-secondary education school system current expenditures\"\n",
    "* Updated `Revenue` column datatype to int64"
   ]
  },
  {
   "cell_type": "markdown",
   "metadata": {},
   "source": [
    "### Per Pupil Amounts for Current Spending of Public Elementary-Secondary School Systems-US and State-2012 - 2018\n",
    "Survey Component: Annual Survey of School System Finance\n",
    "<br />\n",
    "Type of Government (GOVTYPE_LABEL): State and Local\n",
    "\n",
    "#### Cleanup Methodology\n",
    "* Removed the following columns\n",
    "    * `Survey Component (SVY_COMP_LABEL)` because it contains the same value, `Annual Survey of School System Finance` for all rows\n",
    "    * The `Aggregate Description (AGG_DESC)` column because it's values are not human readable and represent the same data as in the `Meaning of Aggregate Description (AGG_DESC_LABEL)` column\n",
    "    * The `Type of Government (GOVTYPE_LABEL)` column because it contains the same value `State and Local` for all rows.\n",
    "* Renamed the following columns:\n",
    "    * `Geographic Area Name (NAME)`: removed the parenthesis and rename to \"State\"\n",
    "    * `Year (YEAR)`: removed the parenthesis  \n",
    "    * `Meaning of Aggregate Description (AGG_DESC_LABEL)`: rename to \"Description\"\n",
    "    * `Amount Formatted (AMOUNT_FORMATTED)`: removed the parenthesis and rename to \"Spending\"\n",
    "\n",
    "* Simplified the values of the `Description` column by renaming the value `Elementary-secondary education school system total current expenditures` to \"total\" and removing the text \"Elementary-secondary education school system current expenditures\"\n",
    "* Updated `Revenue` column datatype to int64"
   ]
  },
  {
   "cell_type": "markdown",
   "metadata": {},
   "source": [
    "### Percentage Distribution of Public Elementary-Secondary School System Revenue by Source-US and State-2012 - 2018\n",
    "Survey Component: Annual Survey of School System Finance\n",
    "<br />\n",
    "Type of Government (GOVTYPE_LABEL): State and Local\n",
    "\n",
    "#### Cleanup Methodology\n",
    "* Removed the following columns\n",
    "    * `Survey Component (SVY_COMP_LABEL)` because it contains the same value, `Annual Survey of School System Finance` for all rows\n",
    "    * The `Aggregate Description (AGG_DESC)` column because it's values are not human readable and represent the same data as in the `Meaning of Aggregate Description (AGG_DESC_LABEL)` column\n",
    "    * The `Type of Government (GOVTYPE_LABEL)` column because it contains the same value `State and Local` for all rows.\n",
    "* Renamed the following columns:\n",
    "    * `Geographic Area Name (NAME)`: removed the parenthesis and rename to \"State\"\n",
    "    * `Year (YEAR)`: removed the parenthesis  \n",
    "    * `Meaning of Aggregate Description (AGG_DESC_LABEL)`: rename to \"Description\"\n",
    "    * `Amount Formatted (AMOUNT_FORMATTED)`: removed the parenthesis and rename to \"Percentage\"\n",
    "* Simplified the values of the `Description` column by renaming the value `Elementary-secondary education school system total current expenditures` to \"total\" and removing the text \"Elementary-secondary education school system current expenditures\"\n",
    "* Replaced the percentage values for DC where the value was \"X\" with zero\n",
    "* Updated `Percentage` datatype to float64"
   ]
  },
  {
   "cell_type": "markdown",
   "metadata": {},
   "source": [
    "### Revenue from Federal Sources for Public Elementary-Secondary School Systems-US and States-2012 - 2018\n",
    "Survey Component: Annual Survey of School System Finance\n",
    "<br />\n",
    "Type of Government (GOVTYPE_LABEL): State and Local\n",
    "\n",
    "#### Cleanup Methodology\n",
    "* Removed the following columns\n",
    "    * `Survey Component (SVY_COMP_LABEL)` because it contains the same value, `Annual Survey of School System Finance` for all rows\n",
    "    * The `Aggregate Description (AGG_DESC)` column because it's values are not human readable and represent the same data as in the `Meaning of Aggregate Description (AGG_DESC_LABEL)` column\n",
    "    * The `Type of Government (GOVTYPE_LABEL)` column because it contains the same value `State and Local` for all rows.\n",
    "* Renamed the following columns:\n",
    "    * `Geographic Area Name (NAME)`: removed the parenthesis and rename to \"State\"\n",
    "    * `Year (YEAR)`: removed the parenthesis  \n",
    "    * `Meaning of Aggregate Description (AGG_DESC_LABEL)`: rename to \"Description\"\n",
    "    * `Amount Formatted (AMOUNT_FORMATTED)`: removed the parenthesis and rename to \"Revenue\"\n",
    "\n",
    "* Simplified the values of the `Description` column by renaming the value `Elementary-secondary education school system total current expenditures` to \"total\" and removing the text \"Elementary-secondary education school system current expenditures\"\n",
    "* Replaced \"N\" values in the `Revenue` column with zero\n",
    "* Updated `Revenue` column datatype to int64"
   ]
  },
  {
   "cell_type": "markdown",
   "metadata": {},
   "source": [
    "### Revenue from State Sources for Public Elementary-Secondary School Systems-US and State-\n",
    "2012 - 2018\n",
    "Survey Component: Annual Survey of School System Finance\n",
    "<br />\n",
    "Type of Government (GOVTYPE_LABEL): State and Local\n",
    "\n",
    "#### Cleanup Methodology\n",
    "* Removed the following columns\n",
    "    * `Survey Component (SVY_COMP_LABEL)` because it contains the same value, `Annual Survey of School System Finance` for all rows\n",
    "    * The `Aggregate Description (AGG_DESC)` column because it's values are not human readable and represent the same data as in the `Meaning of Aggregate Description (AGG_DESC_LABEL)` column\n",
    "    * The `Type of Government (GOVTYPE_LABEL)` column because it contains the same value `State and Local` for all rows.\n",
    "* Removed D.C. from dataset because it doesn't receive any state funding\n",
    "* Renamed the following columns:\n",
    "    * `Geographic Area Name (NAME)`: removed the parenthesis and rename to \"State\"\n",
    "    * `Year (YEAR)`: removed the parenthesis  \n",
    "    * `Meaning of Aggregate Description (AGG_DESC_LABEL)`: rename to \"Description\"\n",
    "    * `Amount Formatted (AMOUNT_FORMATTED)`: removed the parenthesis and rename to \"Revenue\"\n",
    "\n",
    "* Simplified the values of the `Description` column by renaming the value `Elementary-secondary education school system total current expenditures` to \"total\" and removing the text \"Elementary-secondary education school system current expenditures\"\n",
    "* Updated `Revenue` column datatype to int64"
   ]
  },
  {
   "cell_type": "markdown",
   "metadata": {},
   "source": [
    "### Revenue from Local Sources for Public Elementary-Secondary School Systems-US and State-2012 - 2018\n",
    "Survey Component: Annual Survey of School System Finance\n",
    "<br />\n",
    "Type of Government (GOVTYPE_LABEL): State and Local\n",
    "\n",
    "#### Cleanup Methodology\n",
    "* Removed the following columns\n",
    "    * `Survey Component (SVY_COMP_LABEL)` because it contains the same value, `Annual Survey of School System Finance` for all rows\n",
    "    * The `Aggregate Description (AGG_DESC)` column because it's values are not human readable and represent the same data as in the `Meaning of Aggregate Description (AGG_DESC_LABEL)` column\n",
    "    * The `Type of Government (GOVTYPE_LABEL)` column because it contains the same value `State and Local` for all rows.\n",
    "\n",
    "* Renamed the following columns:\n",
    "    * `Geographic Area Name (NAME)`: removed the parenthesis and rename to \"State\"\n",
    "    * `Year (YEAR)`: removed the parenthesis  \n",
    "    * `Meaning of Aggregate Description (AGG_DESC_LABEL)`: rename to \"Description\"\n",
    "    * `Amount Formatted (AMOUNT_FORMATTED)`: removed the parenthesis and rename to \"Revenue\"\n",
    "\n",
    "* Simplified the values of the `Description` column by renaming the value `Elementary-secondary education school system total current expenditures` to \"total\" and removing the text \"Elementary-secondary education school system current expenditures\"\n",
    "* Replaced \"X\" values in the `Revenue` column with zero\n",
    "* Updated `Revenue` column datatype to int64"
   ]
  },
  {
   "cell_type": "markdown",
   "metadata": {},
   "source": [
    "### Summary of Public Elementary-Secondary School System Finances-US and States-2012-2018\n",
    "Survey Component: Annual Survey of School System Finance\n",
    "<br />\n",
    "Type of Government (GOVTYPE_LABEL): State and Local\n",
    "\n",
    "#### Cleanup Methodology\n",
    "* Removed the following columns\n",
    "    * `Survey Component (SVY_COMP_LABEL)` because it contains the same value, `Annual Survey of School System Finance` for all rows\n",
    "    * The `Aggregate Description (AGG_DESC)` column because it's values are not human readable and represent the same data as in the `Meaning of Aggregate Description (AGG_DESC_LABEL)` column\n",
    "    * The `Type of Government (GOVTYPE_LABEL)` column because it contains the same value `State and Local` for all rows.\n",
    "* Renamed the following columns:\n",
    "    * `Geographic Area Name (NAME)`: removed the parenthesis and rename to \"State\"\n",
    "    * `Year (YEAR)`: removed the parenthesis  \n",
    "    * `Meaning of Aggregate Description (AGG_DESC_LABEL)`: rename to \"Description\"\n",
    "    * `Amount Formatted (AMOUNT_FORMATTED)`: removed the parenthesis and rename to \"Revenue\"\n",
    "\n",
    "* Simplified the values of the `Description` column by renaming the value `Elementary-secondary education school system total current expenditures` to \"total\" and removing the text \"Elementary-secondary education school system current expenditures\"\n",
    "* Replaced \"X\" values in the `Revenue` column with zero\n",
    "* Updated `Revenue` column datatype to int64"
   ]
  },
  {
   "cell_type": "code",
   "execution_count": 330,
   "metadata": {},
   "outputs": [],
   "source": [
    "spending_by_state = pd.read_csv('./data_sets/US Census/Current Spending of Public Elementary-Secondary School Systems by State_2012-2018.csv')"
   ]
  },
  {
   "cell_type": "code",
   "execution_count": 331,
   "metadata": {},
   "outputs": [],
   "source": [
    "# dropping columns that are not useful\n",
    "columns_to_drop = ['Survey Component (SVY_COMP_LABEL)', 'Aggregate Description (AGG_DESC)', 'Type of Government (GOVTYPE_LABEL)']\n",
    "spending_by_state.drop(columns=columns_to_drop, inplace=True)"
   ]
  },
  {
   "cell_type": "code",
   "execution_count": 332,
   "metadata": {},
   "outputs": [],
   "source": [
    "# renaming columns with names that are more useful\n",
    "columns_to_rename = {\n",
    "    'Year (YEAR)': 'Year',\n",
    "    'Geographic Area Name (NAME)': 'State',\n",
    "    'Amount Formatted (AMOUNT_FORMATTED)': 'Spending',\n",
    "    'Meaning of Aggregate Description (AGG_DESC_LABEL)': 'Description'\n",
    "}\n",
    "spending_by_state.rename(columns=columns_to_rename, inplace=True)"
   ]
  },
  {
   "cell_type": "code",
   "execution_count": 333,
   "metadata": {},
   "outputs": [],
   "source": [
    "# update description values\n",
    "def renameDescriptions(desc, text_to_remove_p1, text_to_remove_p2='', replacement1='', replacement2=''):\n",
    "    return desc.replace(text_to_remove_p1, replacement1).replace(text_to_remove_p2, replacement2).strip()\n",
    "text1 = 'Elementary-secondary education school system'\n",
    "text2 = 'current expenditures'\n",
    "spending_by_state['Description'] = spending_by_state['Description'].map(lambda desc: renameDescriptions(desc, text1, text2))"
   ]
  },
  {
   "cell_type": "code",
   "execution_count": 334,
   "metadata": {},
   "outputs": [],
   "source": [
    "# update spending type\n",
    "spending_by_state['Spending'] = spending_by_state['Spending'].astype('int64')"
   ]
  },
  {
   "cell_type": "code",
   "execution_count": 335,
   "metadata": {},
   "outputs": [],
   "source": [
    "per_pupil_spending = pd.read_csv('./data_sets/US Census/Per Pupil Amounts for Current Spending of Public Elementary-Secondary School Systems- US and State- 2012 - 2018.csv')"
   ]
  },
  {
   "cell_type": "code",
   "execution_count": 336,
   "metadata": {},
   "outputs": [],
   "source": [
    "# dropping columns that are not useful\n",
    "per_pupil_spending.drop(columns=columns_to_drop, inplace=True)\n",
    "\n",
    "# renaming columns with names that are more useful\n",
    "columns_to_rename['Amount Formatted (AMOUNT_FORMATTED)'] = 'Spending'\n",
    "per_pupil_spending.rename(columns=columns_to_rename, inplace=True)\n",
    "\n",
    "# update description values\n",
    "per_pupil_spending['Description'] = spending_by_state['Description'].map(lambda desc: renameDescriptions(desc, text1, text2))\n",
    "\n",
    "# update spending type\n",
    "per_pupil_spending['Spending'] = per_pupil_spending['Spending'].astype('int64')"
   ]
  },
  {
   "cell_type": "code",
   "execution_count": 337,
   "metadata": {},
   "outputs": [],
   "source": [
    "revenue_distribution = pd.read_csv('./data_sets/US Census/Percentage Distribution of Public Elementary-Secondary School System Revenue by Source- US and State- 2012 - 2018.csv')"
   ]
  },
  {
   "cell_type": "code",
   "execution_count": 338,
   "metadata": {},
   "outputs": [],
   "source": [
    "# dropping columns that are not useful\n",
    "revenue_distribution.drop(columns=columns_to_drop, inplace=True)\n",
    "\n",
    "# renaming columns with names that are more useful\n",
    "columns_to_rename['Amount Formatted (AMOUNT_FORMATTED)'] = 'Percentage'\n",
    "revenue_distribution.rename(columns=columns_to_rename, inplace=True)\n",
    "\n",
    "# update description values\n",
    "revenue_distribution['Description'] = spending_by_state['Description'].map(lambda desc: renameDescriptions(desc, 'Revenue from ', ' sources ', replacement2='-'))\n",
    "\n",
    "# update 'X' values in Percentage column with 0 and update type to float\n",
    "revenue_distribution['Percentage'] = revenue_distribution['Percentage'].apply(lambda x: 0 if x == 'X' else x).astype('float64')"
   ]
  },
  {
   "cell_type": "code",
   "execution_count": 339,
   "metadata": {},
   "outputs": [],
   "source": [
    "revenue_from_fed = pd.read_csv('./data_sets/US Census/Revenue from Federal Sources for Public Elementary-Secondary School Systems- US and States- 2012 - 2018.csv')"
   ]
  },
  {
   "cell_type": "code",
   "execution_count": 340,
   "metadata": {},
   "outputs": [],
   "source": [
    "# dropping columns that are not useful\n",
    "revenue_from_fed.drop(columns=columns_to_drop, inplace=True)\n",
    "\n",
    "# renaming columns with names that are more useful\n",
    "columns_to_rename['Amount Formatted (AMOUNT_FORMATTED)'] = 'Revenue'\n",
    "revenue_from_fed.rename(columns=columns_to_rename, inplace=True)\n",
    "\n",
    "# update description values\n",
    "text1 = 'Elementary-secondary education school system revenue from Federal sources'\n",
    "text2 = text1 + ' - '\n",
    "revenue_from_fed['Description'] = spending_by_state['Description'].map(lambda desc: renameDescriptions(desc, text2, text1, replacement2='total'))\n",
    "\n",
    "# replace revenue values with 0 where they equal'N' and update type to int64\n",
    "revenue_from_fed['Revenue'] = revenue_from_fed['Revenue'].apply(lambda x: 0 if x == 'N' else x).astype('int64')"
   ]
  },
  {
   "cell_type": "code",
   "execution_count": 341,
   "metadata": {},
   "outputs": [],
   "source": [
    "revenue_from_state = pd.read_csv('./data_sets/US Census/Revenue from State Sources for Public Elementary-Secondary School Systems- US and State- 2012 - 2018.csv')"
   ]
  },
  {
   "cell_type": "code",
   "execution_count": 342,
   "metadata": {},
   "outputs": [],
   "source": [
    "# dropping columns that are not useful\n",
    "revenue_from_state.drop(columns=columns_to_drop, inplace=True)\n",
    "\n",
    "# renaming columns with names that are more useful\n",
    "columns_to_rename['Amount Formatted (AMOUNT_FORMATTED)'] = 'Revenue'\n",
    "revenue_from_state.rename(columns=columns_to_rename, inplace=True)\n",
    "\n",
    "# dropping D.C. rows because all values for Revenue are 'X'\n",
    "rows_to_remove = revenue_from_state[(revenue_from_state['State'] == 'District of Columbia') & (revenue_from_state['Revenue'] == 'X')].index\n",
    "revenue_from_state.drop(index=rows_to_remove, inplace=True)\n",
    "\n",
    "# update description values\n",
    "text1 = 'Elementary-secondary education school system revenue from state sources'\n",
    "text2 = text1 + ' - '\n",
    "revenue_from_state['Description'] = spending_by_state['Description'].map(lambda desc: renameDescriptions(desc, text2, text1, replacement2='total'))\n",
    "\n",
    "# update revenue type\n",
    "revenue_from_state['Revenue'] = revenue_from_state['Revenue'].astype('int64')"
   ]
  },
  {
   "cell_type": "code",
   "execution_count": 343,
   "metadata": {},
   "outputs": [],
   "source": [
    "revenue_from_local = pd.read_csv('./data_sets/US Census/Revenue from Local Sources for Public Elementary-Secondary School Systems- US and State - 2012 - 2018.csv')"
   ]
  },
  {
   "cell_type": "code",
   "execution_count": 344,
   "metadata": {},
   "outputs": [],
   "source": [
    "# dropping columns that are not useful\n",
    "revenue_from_local.drop(columns=columns_to_drop, inplace=True)\n",
    "\n",
    "# renaming columns with names that are more useful\n",
    "columns_to_rename['Amount Formatted (AMOUNT_FORMATTED)'] = 'Revenue'\n",
    "revenue_from_local.rename(columns=columns_to_rename, inplace=True)\n",
    "\n",
    "# update description values\n",
    "text1 = 'Elementary-secondary education school system revenue from local sources'\n",
    "text2 = text1 + ' - '\n",
    "revenue_from_local['Description'] = spending_by_state['Description'].map(lambda desc: renameDescriptions(desc, text2, text1, replacement2='total'))\n",
    "\n",
    "# replace revenue values with 0 where they equal'X' and update type to int64\n",
    "revenue_from_local['Revenue'] = revenue_from_local['Revenue'].apply(lambda x: 0 if x == 'X' else x).astype('int64')"
   ]
  },
  {
   "cell_type": "code",
   "execution_count": 345,
   "metadata": {},
   "outputs": [],
   "source": [
    "finances_summary = pd.read_csv('./data_sets/US Census/Summary of Public Elementary-Secondary School System Finances-US and States-2012-2018.csv')"
   ]
  },
  {
   "cell_type": "code",
   "execution_count": 346,
   "metadata": {},
   "outputs": [],
   "source": [
    "# dropping columns that are not useful\n",
    "finances_summary.drop(columns=columns_to_drop, inplace=True)\n",
    "\n",
    "# renaming columns with names that are more useful\n",
    "columns_to_rename['Amount Formatted (AMOUNT_FORMATTED)'] = 'Revenue'\n",
    "finances_summary.rename(columns=columns_to_rename, inplace=True)\n",
    "\n",
    "# update description values\n",
    "text1 = 'Elementary-secondary education school system'\n",
    "finances_summary['Description'] = spending_by_state['Description'].map(lambda desc: renameDescriptions(desc, text1))\n",
    "\n",
    "# replace revenue values with 0 where they equal'X' and update type to int64\n",
    "finances_summary['Revenue'] = finances_summary['Revenue'].apply(lambda x: 0 if x == 'X' else x).astype('int64')"
   ]
  }
 ],
 "metadata": {
  "kernelspec": {
   "display_name": "Python 3",
   "language": "python",
   "name": "python3"
  },
  "language_info": {
   "codemirror_mode": {
    "name": "ipython",
    "version": 3
   },
   "file_extension": ".py",
   "mimetype": "text/x-python",
   "name": "python",
   "nbconvert_exporter": "python",
   "pygments_lexer": "ipython3",
   "version": "3.6.7"
  }
 },
 "nbformat": 4,
 "nbformat_minor": 2
}
